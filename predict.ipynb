{
 "cells": [
  {
   "cell_type": "code",
   "execution_count": 1,
   "metadata": {
    "scrolled": true
   },
   "outputs": [],
   "source": [
    "import time\n",
    "\n",
    "import cv2\n",
    "import numpy as np\n",
    "from PIL import Image\n",
    "\n",
    "from frcnn2 import FRCNN\n",
    "\n"
   ]
  },
  {
   "cell_type": "code",
   "execution_count": null,
   "metadata": {
    "scrolled": true
   },
   "outputs": [
    {
     "name": "stdout",
     "output_type": "stream",
     "text": [
      "model_data/voc_weights_resnet.pth model, anchors, and classes loaded.\n",
      "Configurations:\n",
      "----------------------------------------------------------------------\n",
      "|                     keys |                                   values|\n",
      "----------------------------------------------------------------------\n",
      "|               model_path |        model_data/voc_weights_resnet.pth|\n",
      "|             classes_path |               model_data/voc_classes.txt|\n",
      "|                 backbone |                                 resnet50|\n",
      "|               confidence |                                      0.5|\n",
      "|                  nms_iou |                                      0.3|\n",
      "|             anchors_size |                              [8, 16, 32]|\n",
      "|                     cuda |                                    False|\n",
      "----------------------------------------------------------------------\n",
      "Input image filename:img/008448.jpg\n",
      "<PIL.JpegImagePlugin.JpegImageFile image mode=RGB size=500x375 at 0x7F285A737DD0>\n",
      "Input image filename:img/008467.jpg\n",
      "<PIL.JpegImagePlugin.JpegImageFile image mode=RGB size=375x500 at 0x7F28571C08D0>\n",
      "Input image filename:img/008524.jpg\n",
      "<PIL.JpegImagePlugin.JpegImageFile image mode=RGB size=400x290 at 0x7F285A71BFD0>\n",
      "Input image filename:img/008446.jpg\n",
      "<PIL.JpegImagePlugin.JpegImageFile image mode=RGB size=375x500 at 0x7F28E813E690>\n"
     ]
    }
   ],
   "source": [
    "frcnn = FRCNN()\n",
    "\n",
    "crop            = False\n",
    "count           = False\n",
    "\n",
    "video_path      = 0\n",
    "video_save_path = \"\"\n",
    "video_fps       = 25.0\n",
    "\n",
    "test_interval   = 100\n",
    "fps_image_path  = \"img/catss.jpg\"\n",
    "\n",
    "dir_origin_path = \"img/\"\n",
    "dir_save_path   = \"img_out/\"\n",
    "\n",
    "while True:\n",
    "    img = input('Input image filename:')\n",
    "    try:\n",
    "        image = Image.open(img)\n",
    "    except:\n",
    "        print('Open Error! Try again!')\n",
    "        continue\n",
    "    else:\n",
    "        r_image, a, b = frcnn.detect_image(image, crop = crop, count = count)\n",
    "        print(r_image)\n",
    "        r_image.save(\"1.jpg\") \n",
    "        r_image.show()\n"
   ]
  }
 ],
 "metadata": {
  "kernelspec": {
   "display_name": "Python 3",
   "language": "python",
   "name": "python3"
  },
  "language_info": {
   "codemirror_mode": {
    "name": "ipython",
    "version": 3
   },
   "file_extension": ".py",
   "mimetype": "text/x-python",
   "name": "python",
   "nbconvert_exporter": "python",
   "pygments_lexer": "ipython3",
   "version": "3.7.6"
  }
 },
 "nbformat": 4,
 "nbformat_minor": 4
}
